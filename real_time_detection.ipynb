{
 "cells": [
  {
   "cell_type": "code",
   "execution_count": 101,
   "id": "3a9e78aa",
   "metadata": {},
   "outputs": [],
   "source": [
    "import torch\n",
    "import pandas as pd\n",
    "import numpy as np\n",
    "import cv2\n",
    "import matplotlib.pyplot as plt\n",
    "from time import time\n",
    "import sys\n",
    "from tensorflow.keras import Input, Model\n",
    "from keras.preprocessing import image\n",
    "from sklearn.linear_model import LinearRegression\n",
    "import time\n",
    "import pickle"
   ]
  },
  {
   "cell_type": "markdown",
   "id": "6664c90f",
   "metadata": {},
   "source": [
    "### Main code block for detecting object & predicting distance using webcam "
   ]
  },
  {
   "cell_type": "markdown",
   "id": "b022e531",
   "metadata": {},
   "source": [
    "Do not run this until the sections 'Create label dataframe' & below have finished running!"
   ]
  },
  {
   "cell_type": "code",
   "execution_count": 132,
   "id": "183182a7",
   "metadata": {},
   "outputs": [],
   "source": [
    "class ObjectDetection:\n",
    "    '''load_model() loads yolov5 model using our saved custom weights'''\n",
    "    '''custom weights may be saved differently, kindly refer to result from command line for location reference'''\n",
    "    '''load_dist_model() loads our saved regression model'''\n",
    "    '''conf is object probability threshold'''\n",
    "    '''iou is NMS threshold'''\n",
    "    '''Since we only have 1 class, classes will be = 0'''\n",
    "    '''We will use gpu if available'''\n",
    "    def __init__(self):\n",
    "        self.model = self.load_model()\n",
    "        self.dist_model = self.load_dist_model()\n",
    "        self.model.conf = 0.65\n",
    "        self.model.iou = 0.5 \n",
    "        self.model.classes = [0] \n",
    "        self.device = 'cuda' if torch.cuda.is_available() else 'cpu'\n",
    "        \n",
    "    '''Start webcam'''\n",
    "    def get_video_from_file(self):\n",
    "        cap = cv2.VideoCapture(0)\n",
    "        assert cap is not None\n",
    "        return cap\n",
    "\n",
    "    def load_model(self):\n",
    "        model = torch.hub.load('ultralytics/yolov5', 'custom', path='yolov5\\\\runs\\\\train\\\\yolov5\\\\sagirac_data_det5\\\\weights\\\\best.pt')\n",
    "        return model\n",
    "    \n",
    "    def load_dist_model(self):\n",
    "        with open('sagirac_dataset/models/dist_model.pkl', 'rb') as f:\n",
    "            reg = pickle.load(f)\n",
    "        return reg    \n",
    "    \n",
    "    '''Use yolov5 to predict bounding box for each frame'''\n",
    "    '''Return labels & bounding box coordinates'''\n",
    "    def score_frame(self, frame):\n",
    "        self.model.to(self.device)\n",
    "        results = self.model([frame])\n",
    "        labels, cord = results.xyxyn[0][:, -1].cpu().numpy(), results.xyxyn[0][:, :-1].cpu().numpy()\n",
    "        return labels, cord\n",
    "\n",
    "    '''Plot bounding box'''\n",
    "    '''Each row in cord represents bounding box coordinates for each detected object'''\n",
    "    '''Loop through each object\"s coordinates & draw a rectangle[the bounding box] using coordinates given'''\n",
    "    '''Also draw class probability'''\n",
    "    '''Finally, we find max dimension of bounding box & feed into regression model to obtain distance prediction'''\n",
    "    '''Draw distance prediction on frame'''\n",
    "    '''Return frame'''\n",
    "    def plot_boxes(self, results, frame):\n",
    "        labels, cord = results\n",
    "        n = len(labels)\n",
    "        x_shape, y_shape = frame.shape[1], frame.shape[0]\n",
    "        for i in range(n):\n",
    "            row = cord[i]\n",
    "            #upperleft_x,upperleft_y,lowerright_x,lowerright_y\n",
    "            x1, y1, x2, y2 = int(row[0]*x_shape), int(row[1]*y_shape), int(row[2]*x_shape), int(row[3]*y_shape)\n",
    "            cv2.rectangle(frame, (x1, y1), (x2, y2), (0, 0, 255), 1)\n",
    "            label = f\"target: {round(row[4]*100,1)}%\"\n",
    "            cv2.putText(frame, label, (x1, y1-10), cv2.FONT_HERSHEY_SIMPLEX, 0.7, (0, 255, 0), 2)\n",
    "            box_width, box_height = row[2]-row[0], row[3]-row[1]\n",
    "            distance = round(self.dist_model.predict((np.array([max(box_width,box_height)]).reshape(-1, 1)))[0][0],1)\n",
    "            cv2.putText(frame, f\"distance: {distance}\", (x1, y1-30), cv2.FONT_HERSHEY_SIMPLEX, 0.7, (0, 255, 0), 2)\n",
    "\n",
    "        return frame\n",
    "\n",
    "    '''Main function to put everything together'''\n",
    "    '''Start Camera > Start video recording(fourcc,out)[optional] > Get frame >  Calculate object scores & draw bounding boxes > Calculate object distances & draw distances > Print frame'''\n",
    "    '''To quit, press Q'''\n",
    "    def __call__(self):\n",
    "        player = self.get_video_from_file() \n",
    "        assert player.isOpened()\n",
    "        x_shape = int(player.get(cv2.CAP_PROP_FRAME_WIDTH))\n",
    "        y_shape = int(player.get(cv2.CAP_PROP_FRAME_HEIGHT))\n",
    "        fourcc = cv2.VideoWriter_fourcc(*'MP4V')\n",
    "        out = cv2.VideoWriter('output.mp4', fourcc, 20.0, (640,480))\n",
    "        while True:\n",
    "            ret, frame = player.read()\n",
    "            results = self.score_frame(frame)\n",
    "            frame = self.plot_boxes(results, frame)\n",
    "            cv2.imshow('frame',frame)\n",
    "            out.write(frame)\n",
    "            if cv2.waitKey(1) & 0xFF == ord('q'):\n",
    "                break\n",
    "\n",
    "        player.release()\n",
    "        out.release()\n",
    "        cv2.destroyAllWindows()\n"
   ]
  },
  {
   "cell_type": "markdown",
   "id": "25a627c3",
   "metadata": {},
   "source": [
    "Starts the process. \\\n",
    "A window should open up if done correctly. "
   ]
  },
  {
   "cell_type": "code",
   "execution_count": 133,
   "id": "f1bd6e17",
   "metadata": {},
   "outputs": [
    {
     "name": "stderr",
     "output_type": "stream",
     "text": [
      "Using cache found in C:\\Users\\resce/.cache\\torch\\hub\\ultralytics_yolov5_master\n",
      "YOLOv5  2021-11-11 torch 1.10.0+cu113 CUDA:0 (NVIDIA GeForce RTX 3080, 10239MiB)\n",
      "\n",
      "Fusing layers... \n",
      "Model Summary: 213 layers, 7012822 parameters, 0 gradients\n",
      "Adding AutoShape... \n"
     ]
    }
   ],
   "source": [
    "ObjectDetection().__call__()"
   ]
  },
  {
   "cell_type": "markdown",
   "id": "a4eb2e18",
   "metadata": {},
   "source": [
    "### Create label dataframe "
   ]
  },
  {
   "cell_type": "markdown",
   "id": "6e329bd6",
   "metadata": {},
   "source": [
    "Here, we create 2 CSVs[train & val] for distance prediction. \\\n",
    "First, we create a 'label' file using information from image annotation text files with the columns[filename,box_width,box_height]. \\\n",
    "Next, we create a 'df' file using images names found in augmneted images folder with the columns[filename,distance]. \\\n",
    "Finally, we merge both files on filename column so that each row shows an image name with its corersponding box width, box height & distance label. \\\n",
    "We shall also create a 'max dim' column which is the max of 'box_width' & 'box_height' ."
   ]
  },
  {
   "cell_type": "code",
   "execution_count": 75,
   "id": "1971aa41",
   "metadata": {},
   "outputs": [],
   "source": [
    "path = 'sagirac_dataset/images/train'\n",
    "label_path = 'sagirac_dataset/labels/train'\n",
    "train_label = pd.DataFrame(columns=['filename','box_width','box_height'])\n",
    "for i in range(len(os.listdir(path)[1:])):\n",
    "    label = pd.read_csv(os.path.join(label_path,os.listdir(path)[1:][i][:-4]+'txt'), sep=\" \", header=None)\n",
    "    box_width, box_height = label[3][0], label[4][0]\n",
    "    filename = os.listdir(path)[1:][i]\n",
    "    train_label.loc[i] = [filename, box_width, box_height]"
   ]
  },
  {
   "cell_type": "code",
   "execution_count": 66,
   "id": "62a1e90a",
   "metadata": {},
   "outputs": [],
   "source": [
    "path = 'sagirac_dataset/images/val'\n",
    "label_path = 'sagirac_dataset/labels/val'\n",
    "val_label = pd.DataFrame(columns=['filename','box_width','box_height'])\n",
    "for i in range(len(os.listdir(path)[1:])):\n",
    "    label = pd.read_csv(os.path.join(label_path,os.listdir(path)[1:][i][:-4]+'.txt'), sep=\" \", header=None)\n",
    "    box_width, box_height = label[3][0], label[4][0]\n",
    "    filename = os.listdir(path)[1:][i]\n",
    "    val_label.loc[i] = [filename, box_width, box_height]"
   ]
  },
  {
   "cell_type": "code",
   "execution_count": 76,
   "id": "a464fa8b",
   "metadata": {},
   "outputs": [
    {
     "data": {
      "text/html": [
       "<div>\n",
       "<style scoped>\n",
       "    .dataframe tbody tr th:only-of-type {\n",
       "        vertical-align: middle;\n",
       "    }\n",
       "\n",
       "    .dataframe tbody tr th {\n",
       "        vertical-align: top;\n",
       "    }\n",
       "\n",
       "    .dataframe thead th {\n",
       "        text-align: right;\n",
       "    }\n",
       "</style>\n",
       "<table border=\"1\" class=\"dataframe\">\n",
       "  <thead>\n",
       "    <tr style=\"text-align: right;\">\n",
       "      <th></th>\n",
       "      <th>filename</th>\n",
       "      <th>box_width</th>\n",
       "      <th>box_height</th>\n",
       "    </tr>\n",
       "  </thead>\n",
       "  <tbody>\n",
       "    <tr>\n",
       "      <th>0</th>\n",
       "      <td>13_0_2444.jpeg</td>\n",
       "      <td>0.812500</td>\n",
       "      <td>0.652958</td>\n",
       "    </tr>\n",
       "    <tr>\n",
       "      <th>1</th>\n",
       "      <td>13_0_2741.jpeg</td>\n",
       "      <td>0.836851</td>\n",
       "      <td>0.696248</td>\n",
       "    </tr>\n",
       "    <tr>\n",
       "      <th>2</th>\n",
       "      <td>13_0_3167.jpeg</td>\n",
       "      <td>0.711851</td>\n",
       "      <td>0.678932</td>\n",
       "    </tr>\n",
       "    <tr>\n",
       "      <th>3</th>\n",
       "      <td>13_0_5575.jpeg</td>\n",
       "      <td>0.733766</td>\n",
       "      <td>0.645743</td>\n",
       "    </tr>\n",
       "    <tr>\n",
       "      <th>4</th>\n",
       "      <td>13_0_6109.jpeg</td>\n",
       "      <td>0.784091</td>\n",
       "      <td>0.653680</td>\n",
       "    </tr>\n",
       "    <tr>\n",
       "      <th>...</th>\n",
       "      <td>...</td>\n",
       "      <td>...</td>\n",
       "      <td>...</td>\n",
       "    </tr>\n",
       "    <tr>\n",
       "      <th>995</th>\n",
       "      <td>95_0_6360.jpeg</td>\n",
       "      <td>0.116883</td>\n",
       "      <td>0.207792</td>\n",
       "    </tr>\n",
       "    <tr>\n",
       "      <th>996</th>\n",
       "      <td>95_0_6548.jpeg</td>\n",
       "      <td>0.116883</td>\n",
       "      <td>0.210678</td>\n",
       "    </tr>\n",
       "    <tr>\n",
       "      <th>997</th>\n",
       "      <td>95_0_7970.jpeg</td>\n",
       "      <td>0.116883</td>\n",
       "      <td>0.206349</td>\n",
       "    </tr>\n",
       "    <tr>\n",
       "      <th>998</th>\n",
       "      <td>95_0_8155.jpeg</td>\n",
       "      <td>0.119318</td>\n",
       "      <td>0.206349</td>\n",
       "    </tr>\n",
       "    <tr>\n",
       "      <th>999</th>\n",
       "      <td>95_0_9981.jpeg</td>\n",
       "      <td>0.118506</td>\n",
       "      <td>0.212121</td>\n",
       "    </tr>\n",
       "  </tbody>\n",
       "</table>\n",
       "<p>1000 rows × 3 columns</p>\n",
       "</div>"
      ],
      "text/plain": [
       "           filename  box_width  box_height\n",
       "0    13_0_2444.jpeg   0.812500    0.652958\n",
       "1    13_0_2741.jpeg   0.836851    0.696248\n",
       "2    13_0_3167.jpeg   0.711851    0.678932\n",
       "3    13_0_5575.jpeg   0.733766    0.645743\n",
       "4    13_0_6109.jpeg   0.784091    0.653680\n",
       "..              ...        ...         ...\n",
       "995  95_0_6360.jpeg   0.116883    0.207792\n",
       "996  95_0_6548.jpeg   0.116883    0.210678\n",
       "997  95_0_7970.jpeg   0.116883    0.206349\n",
       "998  95_0_8155.jpeg   0.119318    0.206349\n",
       "999  95_0_9981.jpeg   0.118506    0.212121\n",
       "\n",
       "[1000 rows x 3 columns]"
      ]
     },
     "execution_count": 76,
     "metadata": {},
     "output_type": "execute_result"
    }
   ],
   "source": [
    "train_label"
   ]
  },
  {
   "cell_type": "markdown",
   "id": "83a5001c",
   "metadata": {},
   "source": [
    "### Create CSV files for distance training  "
   ]
  },
  {
   "cell_type": "code",
   "execution_count": 48,
   "id": "053a9a5a",
   "metadata": {},
   "outputs": [],
   "source": [
    "train_df = pd.DataFrame(columns=['filename'],data=os.listdir('sagirac_dataset/distance_images/train'))\n",
    "train_df['distance'] = train_df['filename'].map(lambda x:int(x.split('_')[0]))"
   ]
  },
  {
   "cell_type": "code",
   "execution_count": 77,
   "id": "674fc4bf",
   "metadata": {},
   "outputs": [],
   "source": [
    "train_merged = train_label.merge(train_df,on='filename')\n",
    "train_merged.to_csv('train_distance_dimensions.csv',index=False)"
   ]
  },
  {
   "cell_type": "code",
   "execution_count": 64,
   "id": "a83eaa2e",
   "metadata": {},
   "outputs": [],
   "source": [
    "val_df = pd.DataFrame(columns=['filename'],data=os.listdir('sagirac_dataset/distance_images/val'))\n",
    "val_df['distance'] = val_df['filename'].map(lambda x:int(x.split('_')[2][:-4]))"
   ]
  },
  {
   "cell_type": "code",
   "execution_count": 68,
   "id": "78eb1ec9",
   "metadata": {},
   "outputs": [],
   "source": [
    "val_merged = val_label.merge(val_df,on='filename')\n",
    "val_merged.to_csv('val_distance_dimensions.csv',index=False)"
   ]
  },
  {
   "cell_type": "code",
   "execution_count": 78,
   "id": "8645fbc0",
   "metadata": {},
   "outputs": [],
   "source": [
    "train_merged['max dim'] = train_merged[['box_width','box_height']].values.max(1)\n",
    "val_merged['max dim'] = val_merged[['box_width','box_height']].values.max(1)"
   ]
  },
  {
   "cell_type": "code",
   "execution_count": 137,
   "id": "cfcbd967",
   "metadata": {},
   "outputs": [
    {
     "data": {
      "text/html": [
       "<div>\n",
       "<style scoped>\n",
       "    .dataframe tbody tr th:only-of-type {\n",
       "        vertical-align: middle;\n",
       "    }\n",
       "\n",
       "    .dataframe tbody tr th {\n",
       "        vertical-align: top;\n",
       "    }\n",
       "\n",
       "    .dataframe thead th {\n",
       "        text-align: right;\n",
       "    }\n",
       "</style>\n",
       "<table border=\"1\" class=\"dataframe\">\n",
       "  <thead>\n",
       "    <tr style=\"text-align: right;\">\n",
       "      <th></th>\n",
       "      <th>filename</th>\n",
       "      <th>box_width</th>\n",
       "      <th>box_height</th>\n",
       "      <th>distance</th>\n",
       "      <th>max dim</th>\n",
       "    </tr>\n",
       "  </thead>\n",
       "  <tbody>\n",
       "    <tr>\n",
       "      <th>0</th>\n",
       "      <td>13_0_2444.jpeg</td>\n",
       "      <td>0.812500</td>\n",
       "      <td>0.652958</td>\n",
       "      <td>13</td>\n",
       "      <td>0.812500</td>\n",
       "    </tr>\n",
       "    <tr>\n",
       "      <th>1</th>\n",
       "      <td>13_0_2741.jpeg</td>\n",
       "      <td>0.836851</td>\n",
       "      <td>0.696248</td>\n",
       "      <td>13</td>\n",
       "      <td>0.836851</td>\n",
       "    </tr>\n",
       "    <tr>\n",
       "      <th>2</th>\n",
       "      <td>13_0_3167.jpeg</td>\n",
       "      <td>0.711851</td>\n",
       "      <td>0.678932</td>\n",
       "      <td>13</td>\n",
       "      <td>0.711851</td>\n",
       "    </tr>\n",
       "    <tr>\n",
       "      <th>3</th>\n",
       "      <td>13_0_5575.jpeg</td>\n",
       "      <td>0.733766</td>\n",
       "      <td>0.645743</td>\n",
       "      <td>13</td>\n",
       "      <td>0.733766</td>\n",
       "    </tr>\n",
       "    <tr>\n",
       "      <th>4</th>\n",
       "      <td>13_0_6109.jpeg</td>\n",
       "      <td>0.784091</td>\n",
       "      <td>0.653680</td>\n",
       "      <td>13</td>\n",
       "      <td>0.784091</td>\n",
       "    </tr>\n",
       "    <tr>\n",
       "      <th>...</th>\n",
       "      <td>...</td>\n",
       "      <td>...</td>\n",
       "      <td>...</td>\n",
       "      <td>...</td>\n",
       "      <td>...</td>\n",
       "    </tr>\n",
       "    <tr>\n",
       "      <th>995</th>\n",
       "      <td>95_0_6360.jpeg</td>\n",
       "      <td>0.116883</td>\n",
       "      <td>0.207792</td>\n",
       "      <td>95</td>\n",
       "      <td>0.207792</td>\n",
       "    </tr>\n",
       "    <tr>\n",
       "      <th>996</th>\n",
       "      <td>95_0_6548.jpeg</td>\n",
       "      <td>0.116883</td>\n",
       "      <td>0.210678</td>\n",
       "      <td>95</td>\n",
       "      <td>0.210678</td>\n",
       "    </tr>\n",
       "    <tr>\n",
       "      <th>997</th>\n",
       "      <td>95_0_7970.jpeg</td>\n",
       "      <td>0.116883</td>\n",
       "      <td>0.206349</td>\n",
       "      <td>95</td>\n",
       "      <td>0.206349</td>\n",
       "    </tr>\n",
       "    <tr>\n",
       "      <th>998</th>\n",
       "      <td>95_0_8155.jpeg</td>\n",
       "      <td>0.119318</td>\n",
       "      <td>0.206349</td>\n",
       "      <td>95</td>\n",
       "      <td>0.206349</td>\n",
       "    </tr>\n",
       "    <tr>\n",
       "      <th>999</th>\n",
       "      <td>95_0_9981.jpeg</td>\n",
       "      <td>0.118506</td>\n",
       "      <td>0.212121</td>\n",
       "      <td>95</td>\n",
       "      <td>0.212121</td>\n",
       "    </tr>\n",
       "  </tbody>\n",
       "</table>\n",
       "<p>1000 rows × 5 columns</p>\n",
       "</div>"
      ],
      "text/plain": [
       "           filename  box_width  box_height  distance   max dim\n",
       "0    13_0_2444.jpeg   0.812500    0.652958        13  0.812500\n",
       "1    13_0_2741.jpeg   0.836851    0.696248        13  0.836851\n",
       "2    13_0_3167.jpeg   0.711851    0.678932        13  0.711851\n",
       "3    13_0_5575.jpeg   0.733766    0.645743        13  0.733766\n",
       "4    13_0_6109.jpeg   0.784091    0.653680        13  0.784091\n",
       "..              ...        ...         ...       ...       ...\n",
       "995  95_0_6360.jpeg   0.116883    0.207792        95  0.207792\n",
       "996  95_0_6548.jpeg   0.116883    0.210678        95  0.210678\n",
       "997  95_0_7970.jpeg   0.116883    0.206349        95  0.206349\n",
       "998  95_0_8155.jpeg   0.119318    0.206349        95  0.206349\n",
       "999  95_0_9981.jpeg   0.118506    0.212121        95  0.212121\n",
       "\n",
       "[1000 rows x 5 columns]"
      ]
     },
     "execution_count": 137,
     "metadata": {},
     "output_type": "execute_result"
    }
   ],
   "source": [
    "train_merged"
   ]
  },
  {
   "cell_type": "markdown",
   "id": "9ce9514d",
   "metadata": {},
   "source": [
    "Let's see if a linear correlation exists between image max dim & distance. \\\n",
    "One can clearly see a nice[although not exactly linear] relationship between both variables. \\\n",
    "Extreme distances seem to be noisier. \\\n",
    "Nonetheless, let's stick using a linear regression model for predicting image distances for now."
   ]
  },
  {
   "cell_type": "code",
   "execution_count": 85,
   "id": "55d679f4",
   "metadata": {},
   "outputs": [
    {
     "data": {
      "text/plain": [
       "<matplotlib.collections.PathCollection at 0x22a9fc280d0>"
      ]
     },
     "execution_count": 85,
     "metadata": {},
     "output_type": "execute_result"
    },
    {
     "data": {
      "image/png": "[encoded data removed]",
      "text/plain": [
       "<Figure size 432x288 with 1 Axes>"
      ]
     },
     "metadata": {
      "needs_background": "light"
     },
     "output_type": "display_data"
    }
   ],
   "source": [
    "plt.scatter(train_merged['max dim'], train_merged['distance'])"
   ]
  },
  {
   "cell_type": "code",
   "execution_count": 86,
   "id": "20b5604d",
   "metadata": {},
   "outputs": [
    {
     "data": {
      "text/plain": [
       "<matplotlib.collections.PathCollection at 0x22a9fc8f6a0>"
      ]
     },
     "execution_count": 86,
     "metadata": {},
     "output_type": "execute_result"
    },
    {
     "data": {
      "image/png": "[encoded data removed]",
      "text/plain": [
       "<Figure size 432x288 with 1 Axes>"
      ]
     },
     "metadata": {
      "needs_background": "light"
     },
     "output_type": "display_data"
    }
   ],
   "source": [
    "plt.scatter(val_merged['max dim'], val_merged['distance'])"
   ]
  },
  {
   "cell_type": "markdown",
   "id": "e2d59dda",
   "metadata": {},
   "source": [
    "### Modeling"
   ]
  },
  {
   "cell_type": "markdown",
   "id": "7d383f15",
   "metadata": {},
   "source": [
    "Let's train our model on training images & labels. \\\n",
    "Save our trained model to dist_model.pkl."
   ]
  },
  {
   "cell_type": "code",
   "execution_count": 92,
   "id": "9c9c5a3c",
   "metadata": {},
   "outputs": [
    {
     "data": {
      "text/plain": [
       "0.8952691564096954"
      ]
     },
     "execution_count": 92,
     "metadata": {},
     "output_type": "execute_result"
    }
   ],
   "source": [
    "reg = LinearRegression().fit(train_merged['max dim'].values.reshape(-1, 1), train_merged['distance'].values.reshape(-1, 1))\n",
    "reg.score(train_merged['max dim'].values.reshape(-1, 1), train_merged['distance'].values.reshape(-1, 1))"
   ]
  },
  {
   "cell_type": "code",
   "execution_count": 121,
   "id": "95d552ed",
   "metadata": {},
   "outputs": [
    {
     "data": {
      "text/plain": [
       "44.20288378780465"
      ]
     },
     "execution_count": 121,
     "metadata": {},
     "output_type": "execute_result"
    }
   ],
   "source": [
    "reg.predict(np.array(0.5).reshape(-1, 1))[0][0]"
   ]
  },
  {
   "cell_type": "code",
   "execution_count": 100,
   "id": "1d1e6579",
   "metadata": {},
   "outputs": [],
   "source": [
    "with open('sagirac_dataset/models/dist_model.pkl', 'wb') as f:\n",
    "    pickle.dump(reg, f)"
   ]
  },
  {
   "cell_type": "markdown",
   "id": "5777a93b",
   "metadata": {},
   "source": [
    "Now that both our object detection model & distance prediction model have been trained & saved, we can proceed to running the ObjectDetection class & observe our models in action"
   ]
  }
 ],
 "metadata": {
  "kernelspec": {
   "display_name": "tf-gpu",
   "language": "python",
   "name": "tf-gpu"
  },
  "language_info": {
   "codemirror_mode": {
    "name": "ipython",
    "version": 3
   },
   "file_extension": ".py",
   "mimetype": "text/x-python",
   "name": "python",
   "nbconvert_exporter": "python",
   "pygments_lexer": "ipython3",
   "version": "3.9.7"
  }
 },
 "nbformat": 4,
 "nbformat_minor": 5
}
